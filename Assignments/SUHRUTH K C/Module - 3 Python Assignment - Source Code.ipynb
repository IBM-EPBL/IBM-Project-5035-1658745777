{
 "cells": [
  {
   "cell_type": "code",
   "execution_count": null,
   "id": "f318e2cb",
   "metadata": {},
   "outputs": [],
   "source": [
    "#1) list operations\n",
    "\n",
    "n = int(input(\"Total Elements: \"))\n",
    "nums = list(map(int,input(\"Enter Numbers: \").strip().split()))[:n]\n",
    "position, value = list(map(int, input(\"Insert: \").split()))\n",
    "nums.insert(value, position)\n",
    "print(nums)\n",
    "value = int(input(\"Remove: \"))\n",
    "nums.remove(value)\n",
    "print(nums)\n",
    "value = int(input(\"Append \"))\n",
    "nums.append(value)\n",
    "print(nums)\n",
    "nums.sort()\n",
    "print(nums)\n",
    "nums.pop()\n",
    "print(nums)\n",
    "nums.reverse\n",
    "print(nums)"
   ]
  },
  {
   "cell_type": "code",
   "execution_count": null,
   "id": "f59904a3",
   "metadata": {},
   "outputs": [],
   "source": [
    "#2) Calculator\n",
    "\n",
    "def add(x, y):\n",
    "    return x + y\n",
    "def subtract(x, y):\n",
    "    return x - y\n",
    "def multiply(x, y):\n",
    "    return x * y\n",
    "def divide(x, y):\n",
    "    return x / y\n",
    "\n",
    "num1 = float(input(\"Enter first number: \"))\n",
    "num2 = float(input(\"Enter second number: \"))\n",
    "print(\"Select operation.\")\n",
    "print(\"1.Add\")\n",
    "print(\"2.Subtract\")\n",
    "print(\"3.Multiply\")\n",
    "print(\"4.Divide\")\n",
    "choice = input(\"Enter choice(1/2/3/4): \")\n",
    "if choice in ('1', '2', '3', '4'):\n",
    "    if choice == '1':\n",
    "        print(num1, \"+\", num2, \"=\", add(num1, num2))\n",
    "    elif choice == '2':\n",
    "        print(num1, \"-\", num2, \"=\", subtract(num1, num2))\n",
    "    elif choice == '3':\n",
    "        print(num1, \"*\", num2, \"=\", multiply(num1, num2))\n",
    "    elif choice == '4':\n",
    "        print(num1, \"/\", num2, \"=\", divide(num1, num2))\n",
    "else:\n",
    "    print(\"Invalid Input\")"
   ]
  },
  {
   "cell_type": "code",
   "execution_count": null,
   "id": "ed683a2e",
   "metadata": {},
   "outputs": [],
   "source": [
    "#3) string operations\n",
    "\n",
    "s1 = input(\"Enter string 1: \")\n",
    "s2 = input(\"Enter string 2: \")\n",
    "#slice\n",
    "print(\"Sliced string: \"+s1[2:5])\n",
    "#reverse\n",
    "print(\"Reversed string: \"+s1[::-1])\n",
    "#concatenation\n",
    "print(\"Concatenated string: \"+s1+s2)"
   ]
  },
  {
   "cell_type": "markdown",
   "id": "70ba5c1b",
   "metadata": {},
   "source": [
    "4) Why is python a popular programming language?\n",
    "\n",
    "It uses a simplified syntax with an emphasis on natural language, for a much easier learning curve for beginners.\n",
    "And, because Python is free to use and is supported by an extremely large ecosystem of libraries and packages, \n",
    "it's often the first-choice language for new developers."
   ]
  },
  {
   "cell_type": "markdown",
   "id": "d9e2e5fc",
   "metadata": {},
   "source": [
    "5) What are the other frameworks used along with python?\n",
    "\n",
    "Django and Flask are the top two most popular frameworks that can be used along with python."
   ]
  },
  {
   "cell_type": "markdown",
   "id": "9628414f",
   "metadata": {},
   "source": [
    "6) Full form of WSGI.\n",
    "\n",
    "WSGI - Web Server Gateway Interface"
   ]
  },
  {
   "cell_type": "code",
   "execution_count": null,
   "id": "ad4ac87b",
   "metadata": {},
   "outputs": [],
   "source": [
    "#p1) prime number\n",
    "\n",
    "from math import sqrt\n",
    "n = int(input(\"Enter a number: \"))\n",
    "f=1\n",
    "if(n>1):\n",
    "    for k in range(2,int(sqrt(n))+1):\n",
    "        if(n%k==0):\n",
    "            f=-1\n",
    "            break\n",
    "if(f==1):\n",
    "    print(\"Prime Number\")\n",
    "else:\n",
    "    print(\"Not a Prime Number\")"
   ]
  },
  {
   "cell_type": "code",
   "execution_count": null,
   "id": "bb612617",
   "metadata": {},
   "outputs": [],
   "source": [
    "#p2) odd number from m to n\n",
    "\n",
    "m = int(input(\"Enter m: \"))\n",
    "n = int(input(\"Enter n: \"))\n",
    "while m<=n:\n",
    "    if(m%2!=0):\n",
    "        print(m,end=\" \")\n",
    "    m=m+1"
   ]
  },
  {
   "cell_type": "code",
   "execution_count": null,
   "id": "4446221b",
   "metadata": {},
   "outputs": [],
   "source": [
    "#p3) prime number series till n\n",
    "\n",
    "from math import sqrt\n",
    "n = int(input(\"Enter a number: \"))\n",
    "for i in range(2,n):\n",
    "    f=1\n",
    "    for k in range(2,int(sqrt(i))+1):\n",
    "        if(i%k==0):\n",
    "          f=-1\n",
    "          break\n",
    "    if(f==1):\n",
    "        print(i,end=\" \")"
   ]
  },
  {
   "cell_type": "code",
   "execution_count": null,
   "id": "4a50d2ae",
   "metadata": {},
   "outputs": [],
   "source": [
    "#p4) fibonacci series\n",
    "\n",
    "n = int(input(\"Enter total terms: \"))\n",
    "n1,n2,c=0,1,0\n",
    "if(n>=1):\n",
    "    while c<n:\n",
    "        print(n1,end=\" \")\n",
    "        m=n1+n2\n",
    "        n1=n2\n",
    "        n2=m\n",
    "        c=c+1\n",
    "elif(n<1):\n",
    "    print(\"Enter Positive number :\")\n",
    "    "
   ]
  }
 ],
 "metadata": {
  "kernelspec": {
   "display_name": "Python 3.8.8 ('base')",
   "language": "python",
   "name": "python3"
  },
  "language_info": {
   "codemirror_mode": {
    "name": "ipython",
    "version": 3
   },
   "file_extension": ".py",
   "mimetype": "text/x-python",
   "name": "python",
   "nbconvert_exporter": "python",
   "pygments_lexer": "ipython3",
   "version": "3.8.8"
  },
  "vscode": {
   "interpreter": {
    "hash": "30d15984fd22aa96de85f16433eec91bbe2faea5d46ed3d4d24713e4f4ec970c"
   }
  }
 },
 "nbformat": 4,
 "nbformat_minor": 5
}
